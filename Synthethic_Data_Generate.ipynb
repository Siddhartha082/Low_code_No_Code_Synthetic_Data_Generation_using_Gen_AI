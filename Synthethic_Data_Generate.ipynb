{
  "nbformat": 4,
  "nbformat_minor": 0,
  "metadata": {
    "colab": {
      "provenance": []
    },
    "kernelspec": {
      "name": "python3",
      "display_name": "Python 3"
    },
    "language_info": {
      "name": "python"
    }
  },
  "cells": [
    {
      "cell_type": "code",
      "source": [
        "!git clone https://github.com/gretelai/gdpr-helpers.git"
      ],
      "metadata": {
        "colab": {
          "base_uri": "https://localhost:8080/"
        },
        "id": "nHjAmatc2wE1",
        "outputId": "716c689b-cb45-428b-942d-5be3551e18da"
      },
      "execution_count": 1,
      "outputs": [
        {
          "output_type": "stream",
          "name": "stdout",
          "text": [
            "Cloning into 'gdpr-helpers'...\n",
            "remote: Enumerating objects: 293, done.\u001b[K\n",
            "remote: Counting objects: 100% (293/293), done.\u001b[K\n",
            "remote: Compressing objects: 100% (156/156), done.\u001b[K\n",
            "remote: Total 293 (delta 149), reused 263 (delta 126), pack-reused 0\u001b[K\n",
            "Receiving objects: 100% (293/293), 1.23 MiB | 10.21 MiB/s, done.\n",
            "Resolving deltas: 100% (149/149), done.\n"
          ]
        }
      ]
    },
    {
      "cell_type": "code",
      "execution_count": 2,
      "metadata": {
        "colab": {
          "base_uri": "https://localhost:8080/"
        },
        "id": "P77Y8Pty2l7d",
        "outputId": "aa052507-8228-4e9e-ffa1-bfa04d96d1b5"
      },
      "outputs": [
        {
          "output_type": "stream",
          "name": "stdout",
          "text": [
            "  Preparing metadata (setup.py) ... \u001b[?25l\u001b[?25hdone\n",
            "\u001b[2K     \u001b[90m━━━━━━━━━━━━━━━━━━━━━━━━━━━━━━━━━━━━━━━━\u001b[0m \u001b[32m250.1/250.1 kB\u001b[0m \u001b[31m4.6 MB/s\u001b[0m eta \u001b[36m0:00:00\u001b[0m\n",
            "\u001b[2K     \u001b[90m━━━━━━━━━━━━━━━━━━━━━━━━━━━━━━━━━━━━━━━━\u001b[0m \u001b[32m96.6/96.6 kB\u001b[0m \u001b[31m12.2 MB/s\u001b[0m eta \u001b[36m0:00:00\u001b[0m\n",
            "\u001b[2K     \u001b[90m━━━━━━━━━━━━━━━━━━━━━━━━━━━━━━━━━━━━━━━━\u001b[0m \u001b[32m148.1/148.1 kB\u001b[0m \u001b[31m17.3 MB/s\u001b[0m eta \u001b[36m0:00:00\u001b[0m\n",
            "\u001b[2K     \u001b[90m━━━━━━━━━━━━━━━━━━━━━━━━━━━━━━━━━━━━━━━━\u001b[0m \u001b[32m1.7/1.7 MB\u001b[0m \u001b[31m37.9 MB/s\u001b[0m eta \u001b[36m0:00:00\u001b[0m\n",
            "\u001b[2K     \u001b[90m━━━━━━━━━━━━━━━━━━━━━━━━━━━━━━━━━━━━━━━━\u001b[0m \u001b[32m3.1/3.1 MB\u001b[0m \u001b[31m57.2 MB/s\u001b[0m eta \u001b[36m0:00:00\u001b[0m\n",
            "\u001b[2K     \u001b[90m━━━━━━━━━━━━━━━━━━━━━━━━━━━━━━━━━━━━━━━━\u001b[0m \u001b[32m58.6/58.6 kB\u001b[0m \u001b[31m6.5 MB/s\u001b[0m eta \u001b[36m0:00:00\u001b[0m\n",
            "\u001b[2K     \u001b[90m━━━━━━━━━━━━━━━━━━━━━━━━━━━━━━━━━━━━━━━━\u001b[0m \u001b[32m143.8/143.8 kB\u001b[0m \u001b[31m15.0 MB/s\u001b[0m eta \u001b[36m0:00:00\u001b[0m\n",
            "\u001b[2K     \u001b[90m━━━━━━━━━━━━━━━━━━━━━━━━━━━━━━━━━━━━━━━━\u001b[0m \u001b[32m57.9/57.9 kB\u001b[0m \u001b[31m6.2 MB/s\u001b[0m eta \u001b[36m0:00:00\u001b[0m\n",
            "\u001b[2K     \u001b[90m━━━━━━━━━━━━━━━━━━━━━━━━━━━━━━━━━━━━━━━━\u001b[0m \u001b[32m105.3/105.3 kB\u001b[0m \u001b[31m8.8 MB/s\u001b[0m eta \u001b[36m0:00:00\u001b[0m\n",
            "\u001b[?25h  Building wheel for gdpr-helpers (setup.py) ... \u001b[?25l\u001b[?25hdone\n",
            "\u001b[31mERROR: pip's dependency resolver does not currently take into account all the packages that are installed. This behaviour is the source of the following dependency conflicts.\n",
            "lida 0.0.10 requires fastapi, which is not installed.\n",
            "lida 0.0.10 requires kaleido, which is not installed.\n",
            "lida 0.0.10 requires python-multipart, which is not installed.\n",
            "lida 0.0.10 requires uvicorn, which is not installed.\n",
            "llmx 0.0.15a0 requires cohere, which is not installed.\n",
            "llmx 0.0.15a0 requires openai, which is not installed.\n",
            "llmx 0.0.15a0 requires tiktoken, which is not installed.\u001b[0m\u001b[31m\n",
            "\u001b[0m"
          ]
        }
      ],
      "source": [
        "!cd gdpr-helpers; pip install -Uqq ."
      ]
    },
    {
      "cell_type": "code",
      "source": [
        "import os\n",
        "if not os.getcwd().endswith('gdpr-helpers'):\n",
        "    os.chdir('gdpr-helpers')"
      ],
      "metadata": {
        "id": "GgN1jJ5m2-Y7"
      },
      "execution_count": 3,
      "outputs": []
    },
    {
      "cell_type": "code",
      "source": [
        "import glob\n",
        "from gdpr_helpers import Anonymizer"
      ],
      "metadata": {
        "id": "M9syTMe23C3X"
      },
      "execution_count": 4,
      "outputs": []
    },
    {
      "cell_type": "markdown",
      "source": [],
      "metadata": {
        "id": "fD9AYTn_4WlX"
      }
    },
    {
      "cell_type": "code",
      "source": [
        "search_pattern = \"data/adventure-works-bike-buying.csv\""
      ],
      "metadata": {
        "id": "a5K-8hrN3I9R"
      },
      "execution_count": 5,
      "outputs": []
    },
    {
      "cell_type": "code",
      "source": [
        "am = Anonymizer(\n",
        "    project_name=\"gdpr-workflow\",\n",
        "    run_mode=\"cloud\",\n",
        "    transforms_config=\"src/config/transforms_config.yaml\",\n",
        "    synthetics_config=\"src/config/synthetics_config.yaml\",\n",
        "    endpoint=\"https://api.gretel.cloud\"\n",
        "    )"
      ],
      "metadata": {
        "colab": {
          "base_uri": "https://localhost:8080/"
        },
        "id": "RfyoByhn3M9p",
        "outputId": "ab1bbd84-d1ae-4c9f-d201-06044f8a8209"
      },
      "execution_count": 6,
      "outputs": [
        {
          "output_type": "stream",
          "name": "stdout",
          "text": [
            "Gretel Api Key··········\n",
            "Caching Gretel config to disk.\n",
            "Using endpoint https://api.gretel.cloud\n",
            "Logged in as sai.siddharth@gmail.com ✅\n",
            "Follow along with model training at: https://console.gretel.ai/proj_2YiRoidNZvzCXRChbEWCkUfADy7\n"
          ]
        }
      ]
    },
    {
      "cell_type": "code",
      "source": [
        "for dataset_path in glob.glob(search_pattern):\n",
        "    am.anonymize(dataset_path=dataset_path)"
      ],
      "metadata": {
        "colab": {
          "base_uri": "https://localhost:8080/"
        },
        "id": "LDjicfdj5nks",
        "outputId": "d217c360-9602-4fb9-de45-61bad6a53017"
      },
      "execution_count": 7,
      "outputs": [
        {
          "output_type": "stream",
          "name": "stdout",
          "text": [
            "Anonymizing 'data/adventure-works-bike-buying.csv'\n",
            "Warning: Found NaN values in training data columns: ['Title', 'MiddleName', 'Suffix', 'AddressLine2']. Replacing NaN values with ''.\n"
          ]
        },
        {
          "output_type": "stream",
          "name": "stderr",
          "text": [
            "Model creation complete!: : 14it [00:18,  1.31s/it]\n",
            "Transform - Job completed: : 25it [00:36,  1.45s/it]\n"
          ]
        },
        {
          "output_type": "stream",
          "name": "stdout",
          "text": [
            "\n",
            "\n",
            "Named Entity Recognition\n",
            "Processing time: 4.238 seconds\n",
            "Samples: 100 records\n",
            "Columns: 24 columns\n",
            "\n",
            "Entities detected\n",
            "| column_name          |   count |   approx_distinct_count |   missing_count | entities_detected    |\n",
            "|:---------------------|--------:|------------------------:|----------------:|:---------------------|\n",
            "| CustomerID           |     100 |                     100 |               0 |                      |\n",
            "| Title                |       0 |                       0 |             100 |                      |\n",
            "| FirstName            |     100 |                      93 |               0 | person_name          |\n",
            "| MiddleName           |      52 |                      15 |              48 |                      |\n",
            "| LastName             |     100 |                      84 |               0 | person_name          |\n",
            "| Suffix               |       0 |                       0 |             100 |                      |\n",
            "| AddressLine1         |     100 |                     100 |               0 | location             |\n",
            "| AddressLine2         |       2 |                       2 |              98 | location             |\n",
            "| City                 |     100 |                      61 |               0 | location             |\n",
            "| StateProvinceName    |     100 |                       9 |               0 | location             |\n",
            "| CountryRegionName    |     100 |                       3 |               0 | location             |\n",
            "| PostalCode           |     100 |                      60 |               0 |                      |\n",
            "| PhoneNumber          |     100 |                      79 |               0 | phone_number         |\n",
            "| BirthDate            |     100 |                     100 |               0 | datetime, birth_date |\n",
            "| Education            |     100 |                       5 |               0 |                      |\n",
            "| Occupation           |     100 |                       4 |               0 |                      |\n",
            "| Gender               |     100 |                       2 |               0 | gender               |\n",
            "| MaritalStatus        |     100 |                       2 |               0 |                      |\n",
            "| HomeOwnerFlag        |     100 |                       2 |               0 |                      |\n",
            "| NumberCarsOwned      |     100 |                       5 |               0 |                      |\n",
            "| NumberChildrenAtHome |     100 |                       6 |               0 |                      |\n",
            "| TotalChildren        |     100 |                       6 |               0 |                      |\n",
            "| YearlyIncome         |     100 |                     100 |               0 |                      |\n",
            "| BikeBuyer            |     100 |                       2 |               0 |                      |\n",
            "\n",
            "\n",
            "Transforms finished.\n",
            "Processing time: 20.796 seconds\n",
            "Record count: 16519\n",
            "\n",
            "Columns transformed\n",
            "| field_name        | transform_type   |   transformed_count |\n",
            "|:------------------|:-----------------|--------------------:|\n",
            "| City              | passthrough      |               16519 |\n",
            "| LastName          | fake             |               16519 |\n",
            "| MiddleName        | fake             |                9534 |\n",
            "| FirstName         | fake             |               16519 |\n",
            "| AddressLine1      | fake             |               16519 |\n",
            "| BirthDate         | dateshift        |               16519 |\n",
            "| PhoneNumber       | fake             |               16519 |\n",
            "| StateProvinceName | hash             |               16519 |\n",
            "| CountryRegionName | hash             |               16519 |\n",
            "| CustomerID        | hash             |               16519 |\n",
            "| AddressLine2      | fake             |                 276 |\n",
            "\n",
            "\n"
          ]
        },
        {
          "output_type": "stream",
          "name": "stderr",
          "text": [
            "Actgan - Job completed: : 320it [07:28,  1.40s/it, epoch=597, loss_g=-.626, loss_d=-1.1, loss_r=0.00519]\n"
          ]
        },
        {
          "output_type": "stream",
          "name": "stdout",
          "text": [
            "dict_keys(['left_rows', 'left_cols', 'right_rows', 'right_cols', 'fields', 'left_correlation', 'right_correlation', 'correlation_difference', 'memorized_lines', 'mean_absolute_error', 'average_divergence', 'left_pca', 'right_pca', 'synthetic_data_quality_score', 'field_correlation_stability', 'principal_component_stability', 'field_distribution_stability', 'privacy_protection_level', 'model_id', 'project_name', 'model_name', 'model_type', 'fatal_error', 'summary', 'total_time_seconds', 'total_billed_seconds', 'job_status', 'job_type'])\n",
            "\n",
            "\n",
            "Synthesis finished.\n",
            "Lines memorized: 0\n",
            "\n",
            "Model training time: 428.212 seconds\n",
            "\n",
            "Job status: completed\n",
            "\n",
            "Job type: actgan\n",
            "\n",
            "Privacy report\n",
            "|                        | value    |\n",
            "|:-----------------------|:---------|\n",
            "| outlier_filter         | Medium   |\n",
            "| similarity_filter      | Medium   |\n",
            "| overfitting_protection | Disabled |\n",
            "| differential_privacy   | Disabled |\n",
            "\n",
            "Accuracy report\n",
            "| field                         |   value |\n",
            "|:------------------------------|--------:|\n",
            "| synthetic_data_quality_score  |      79 |\n",
            "| field_correlation_stability   |      69 |\n",
            "| principal_component_stability |      85 |\n",
            "| field_distribution_stability  |      85 |\n",
            "\n",
            "\n",
            "dict_keys(['left_rows', 'left_cols', 'right_rows', 'right_cols', 'fields', 'left_correlation', 'right_correlation', 'correlation_difference', 'memorized_lines', 'mean_absolute_error', 'average_divergence', 'left_pca', 'right_pca', 'synthetic_data_quality_score', 'field_correlation_stability', 'principal_component_stability', 'field_distribution_stability', 'privacy_protection_level', 'model_id', 'project_name', 'model_name', 'model_type', 'fatal_error', 'summary', 'total_time_seconds', 'total_billed_seconds', 'job_status', 'job_type'])\n",
            "Anonymization complete\n",
            " -- Synthetic data stored to: artifacts/adventure-works-bike-buying-synthetic_data.csv\n",
            " -- Anonymization report stored to: artifacts/adventure-works-bike-buying-anonymization_report.html\n"
          ]
        }
      ]
    }
  ]
}